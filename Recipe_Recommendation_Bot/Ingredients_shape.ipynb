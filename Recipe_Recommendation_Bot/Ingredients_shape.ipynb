{
 "cells": [
  {
   "cell_type": "markdown",
   "id": "b65511fe-d4b7-43c7-b153-06fa31f3555f",
   "metadata": {},
   "source": [
    "## Word Cloud Wine Bottle\n"
   ]
  },
  {
   "cell_type": "code",
   "execution_count": null,
   "id": "94dceafb-67ab-4640-a31a-9de71a6fc435",
   "metadata": {},
   "outputs": [],
   "source": [
    "# Program to generate Word Cloud\n",
    "\n",
    "# import all necessary modules\n",
    "from PIL import Image\n",
    "import numpy as np\n",
    "from wordcloud import WordCloud, STOPWORDS, ImageColorGenerator\n",
    "import matplotlib.pyplot as plt\n",
    "import pandas as pd\n",
    "import warnings\n",
    "warnings.filterwarnings('ignore')\n",
    "import matplotlib as mpl\n"
   ]
  },
  {
   "cell_type": "code",
   "execution_count": null,
   "id": "dc22dff1-6d40-46e2-b855-6048a5db6621",
   "metadata": {},
   "outputs": [],
   "source": [
    "# Read CSV File\n",
    "import os\n",
    "df = pd.read_csv(\"foodie_words.csv\", index_col=0)"
   ]
  },
  {
   "cell_type": "code",
   "execution_count": null,
   "id": "5276d7f2-002d-43c5-9bcf-c8dfb9cbdb26",
   "metadata": {},
   "outputs": [],
   "source": [
    "# read the mask/color image taken from\n",
    "#coloring = np.array(Image.open('.jpg'))\n",
    "stopwords = set(STOPWORDS)\n",
    "custom_stop_words = [\"https\", \"t\", \"co\", \"eh\", \"s\"]\n",
    "[stopwords.add(n) for n in custom_stop_words]"
   ]
  },
  {
   "cell_type": "code",
   "execution_count": null,
   "id": "d90346d9-e57e-4c65-8181-7bd15125e86d",
   "metadata": {},
   "outputs": [],
   "source": [
    "all_text = \" \".join(df['foodie'])"
   ]
  },
  {
   "cell_type": "code",
   "execution_count": null,
   "id": "f395ddd7-60ef-4f54-857d-0530776843b5",
   "metadata": {},
   "outputs": [],
   "source": [
    "wordcloud = WordCloud(stopwords = stopwords, max_words=100, background_color = \"white\").generate(all_text)"
   ]
  },
  {
   "cell_type": "code",
   "execution_count": null,
   "id": "33b17faf-61e4-4ae2-8fdc-4eff438f634c",
   "metadata": {},
   "outputs": [],
   "source": [
    "plt.imshow(wordcloud, interpolation=\"bilinear\")\n",
    "plt.axis(\"off\")\n",
    "plt.show()"
   ]
  },
  {
   "cell_type": "code",
   "execution_count": null,
   "id": "3b09672e-4092-4750-9b8a-6b233ae5677c",
   "metadata": {},
   "outputs": [],
   "source": []
  }
 ],
 "metadata": {
  "kernelspec": {
   "display_name": "Python [conda env:dev]",
   "language": "python",
   "name": "conda-env-dev-py"
  },
  "language_info": {
   "codemirror_mode": {
    "name": "ipython",
    "version": 3
   },
   "file_extension": ".py",
   "mimetype": "text/x-python",
   "name": "python",
   "nbconvert_exporter": "python",
   "pygments_lexer": "ipython3",
   "version": "3.7.11"
  }
 },
 "nbformat": 4,
 "nbformat_minor": 5
}
